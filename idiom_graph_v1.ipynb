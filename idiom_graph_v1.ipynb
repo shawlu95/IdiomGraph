{
 "cells": [
  {
   "cell_type": "code",
   "execution_count": 1,
   "metadata": {},
   "outputs": [],
   "source": [
    "from xpinyin import Pinyin\n",
    "import time\n",
    "pin = Pinyin()"
   ]
  },
  {
   "cell_type": "markdown",
   "metadata": {},
   "source": [
    "### Load File"
   ]
  },
  {
   "cell_type": "code",
   "execution_count": 2,
   "metadata": {},
   "outputs": [],
   "source": [
    "# Parse the source\n",
    "with open('dataset/THUOCL_chengyu.txt', 'r', encoding='utf-8') as source:\n",
    "    idioms = [i for i in map(lambda x: x.split()[0], source.readlines()) if len(i) <= 4]\n",
    "\n",
    "nodes = set([pin.get_pinyin(i[0]) for i in idioms] + [pin.get_pinyin(i[-1]) for i in idioms])\n",
    "edges = [{\"src\": pin.get_pinyin(i[0]), \"dst\": pin.get_pinyin(i[-1]), \"idiom\": i} for i in idioms]"
   ]
  },
  {
   "cell_type": "markdown",
   "metadata": {},
   "source": [
    "#### Create Graph"
   ]
  },
  {
   "cell_type": "code",
   "execution_count": 3,
   "metadata": {},
   "outputs": [
    {
     "name": "stdout",
     "output_type": "stream",
     "text": [
      "created graph, time elapsed: 9.47s\n"
     ]
    }
   ],
   "source": [
    "from py2neo import Graph\n",
    "graph = Graph(\"bolt://localhost:7687\", password=\"12345678\")\n",
    "\n",
    "cql = \"CREATE \\n\" + \",\".join(\"(%s : Node {char: \\\"%s\\\"})\\n\"%(n, n) for n in nodes)\n",
    "for e in edges:\n",
    "    cql += \",(%s)-[:idiom {idiom: '%s'}]->(%s)\\n\"%(e['src'], e[\"idiom\"], e['dst'])\n",
    "\n",
    "start = time.time()\n",
    "graph.run(\"match (n) detach delete n\")\n",
    "graph.run(cql)\n",
    "print(\"created graph, time elapsed: %.2fs\"%(time.time() - start))"
   ]
  },
  {
   "cell_type": "markdown",
   "metadata": {},
   "source": [
    "___\n",
    "### Query Graph\n",
    "##### Find next word"
   ]
  },
  {
   "cell_type": "code",
   "execution_count": 4,
   "metadata": {},
   "outputs": [
    {
     "name": "stdout",
     "output_type": "stream",
     "text": [
      "found 376 idioms\n"
     ]
    },
    {
     "data": {
      "text/html": [
       "<div>\n",
       "<style scoped>\n",
       "    .dataframe tbody tr th:only-of-type {\n",
       "        vertical-align: middle;\n",
       "    }\n",
       "\n",
       "    .dataframe tbody tr th {\n",
       "        vertical-align: top;\n",
       "    }\n",
       "\n",
       "    .dataframe thead th {\n",
       "        text-align: right;\n",
       "    }\n",
       "</style>\n",
       "<table border=\"1\" class=\"dataframe\">\n",
       "  <thead>\n",
       "    <tr style=\"text-align: right;\">\n",
       "      <th></th>\n",
       "      <th>e.idiom</th>\n",
       "    </tr>\n",
       "  </thead>\n",
       "  <tbody>\n",
       "    <tr>\n",
       "      <th>0</th>\n",
       "      <td>一念之差</td>\n",
       "    </tr>\n",
       "    <tr>\n",
       "      <th>1</th>\n",
       "      <td>一五一十</td>\n",
       "    </tr>\n",
       "    <tr>\n",
       "      <th>2</th>\n",
       "      <td>一马当先</td>\n",
       "    </tr>\n",
       "    <tr>\n",
       "      <th>3</th>\n",
       "      <td>以古为镜</td>\n",
       "    </tr>\n",
       "    <tr>\n",
       "      <th>4</th>\n",
       "      <td>依然如故</td>\n",
       "    </tr>\n",
       "  </tbody>\n",
       "</table>\n",
       "</div>"
      ],
      "text/plain": [
       "  e.idiom\n",
       "0    一念之差\n",
       "1    一五一十\n",
       "2    一马当先\n",
       "3    以古为镜\n",
       "4    依然如故"
      ]
     },
     "execution_count": 4,
     "metadata": {},
     "output_type": "execute_result"
    }
   ],
   "source": [
    "next_word = lambda word: graph.run(\"match ()-[:idiom {idiom: '%s'}]->()-[e:idiom]->() return e.idiom\"%word)\n",
    "\n",
    "df_next = next_word(\"坚定不移\").to_data_frame()\n",
    "\n",
    "print(\"found %i idioms\"%len(df_next))\n",
    "df_next.head()"
   ]
  },
  {
   "cell_type": "markdown",
   "metadata": {},
   "source": [
    "##### Find path"
   ]
  },
  {
   "cell_type": "code",
   "execution_count": 5,
   "metadata": {},
   "outputs": [],
   "source": [
    "def find_path(idiom, length, limit):\n",
    "    cql = \"match ()-[e:idiom {idiom: '%s'}]->()\"%idiom\n",
    "    path = \"\".join([\"-[e%i:idiom]->()\"%(i + 1) for i in range(length)])\n",
    "    ret = \", \".join([\"e%i.idiom as i%i\"%(i + 1, i + 1) for i in range(length)])\n",
    "    return graph.run(cql + path + \" return e.idiom as i0, \" + ret + \" limit %i\"%limit).to_data_frame()"
   ]
  },
  {
   "cell_type": "code",
   "execution_count": 6,
   "metadata": {},
   "outputs": [
    {
     "name": "stdout",
     "output_type": "stream",
     "text": [
      "found 100000 paths, time elapsed: 3.61s\n"
     ]
    },
    {
     "data": {
      "text/html": [
       "<div>\n",
       "<style scoped>\n",
       "    .dataframe tbody tr th:only-of-type {\n",
       "        vertical-align: middle;\n",
       "    }\n",
       "\n",
       "    .dataframe tbody tr th {\n",
       "        vertical-align: top;\n",
       "    }\n",
       "\n",
       "    .dataframe thead th {\n",
       "        text-align: right;\n",
       "    }\n",
       "</style>\n",
       "<table border=\"1\" class=\"dataframe\">\n",
       "  <thead>\n",
       "    <tr style=\"text-align: right;\">\n",
       "      <th></th>\n",
       "      <th>i0</th>\n",
       "      <th>i1</th>\n",
       "      <th>i2</th>\n",
       "      <th>i3</th>\n",
       "      <th>i4</th>\n",
       "      <th>i5</th>\n",
       "    </tr>\n",
       "  </thead>\n",
       "  <tbody>\n",
       "    <tr>\n",
       "      <th>0</th>\n",
       "      <td>坚定不移</td>\n",
       "      <td>一念之差</td>\n",
       "      <td>差强人意</td>\n",
       "      <td>以讹传讹</td>\n",
       "      <td>饿虎扑食</td>\n",
       "      <td>事缓则圆</td>\n",
       "    </tr>\n",
       "    <tr>\n",
       "      <th>1</th>\n",
       "      <td>坚定不移</td>\n",
       "      <td>一五一十</td>\n",
       "      <td>实心实意</td>\n",
       "      <td>以讹传讹</td>\n",
       "      <td>饿虎扑食</td>\n",
       "      <td>事缓则圆</td>\n",
       "    </tr>\n",
       "    <tr>\n",
       "      <th>2</th>\n",
       "      <td>坚定不移</td>\n",
       "      <td>一五一十</td>\n",
       "      <td>诗情画意</td>\n",
       "      <td>以讹传讹</td>\n",
       "      <td>饿虎扑食</td>\n",
       "      <td>事缓则圆</td>\n",
       "    </tr>\n",
       "    <tr>\n",
       "      <th>3</th>\n",
       "      <td>坚定不移</td>\n",
       "      <td>一五一十</td>\n",
       "      <td>时移世易</td>\n",
       "      <td>以讹传讹</td>\n",
       "      <td>饿虎扑食</td>\n",
       "      <td>事缓则圆</td>\n",
       "    </tr>\n",
       "    <tr>\n",
       "      <th>4</th>\n",
       "      <td>坚定不移</td>\n",
       "      <td>一五一十</td>\n",
       "      <td>时移势易</td>\n",
       "      <td>以讹传讹</td>\n",
       "      <td>饿虎扑食</td>\n",
       "      <td>事缓则圆</td>\n",
       "    </tr>\n",
       "    <tr>\n",
       "      <th>5</th>\n",
       "      <td>坚定不移</td>\n",
       "      <td>一五一十</td>\n",
       "      <td>矢志不移</td>\n",
       "      <td>以讹传讹</td>\n",
       "      <td>饿虎扑食</td>\n",
       "      <td>事缓则圆</td>\n",
       "    </tr>\n",
       "    <tr>\n",
       "      <th>6</th>\n",
       "      <td>坚定不移</td>\n",
       "      <td>一五一十</td>\n",
       "      <td>始终如一</td>\n",
       "      <td>以讹传讹</td>\n",
       "      <td>饿虎扑食</td>\n",
       "      <td>事缓则圆</td>\n",
       "    </tr>\n",
       "    <tr>\n",
       "      <th>7</th>\n",
       "      <td>坚定不移</td>\n",
       "      <td>一马当先</td>\n",
       "      <td>弦外之意</td>\n",
       "      <td>以讹传讹</td>\n",
       "      <td>饿虎扑食</td>\n",
       "      <td>事缓则圆</td>\n",
       "    </tr>\n",
       "    <tr>\n",
       "      <th>8</th>\n",
       "      <td>坚定不移</td>\n",
       "      <td>以古为镜</td>\n",
       "      <td>惊叹不已</td>\n",
       "      <td>以讹传讹</td>\n",
       "      <td>饿虎扑食</td>\n",
       "      <td>事缓则圆</td>\n",
       "    </tr>\n",
       "    <tr>\n",
       "      <th>9</th>\n",
       "      <td>坚定不移</td>\n",
       "      <td>依然如故</td>\n",
       "      <td>顾名思义</td>\n",
       "      <td>以讹传讹</td>\n",
       "      <td>饿虎扑食</td>\n",
       "      <td>事缓则圆</td>\n",
       "    </tr>\n",
       "  </tbody>\n",
       "</table>\n",
       "</div>"
      ],
      "text/plain": [
       "     i0    i1    i2    i3    i4    i5\n",
       "0  坚定不移  一念之差  差强人意  以讹传讹  饿虎扑食  事缓则圆\n",
       "1  坚定不移  一五一十  实心实意  以讹传讹  饿虎扑食  事缓则圆\n",
       "2  坚定不移  一五一十  诗情画意  以讹传讹  饿虎扑食  事缓则圆\n",
       "3  坚定不移  一五一十  时移世易  以讹传讹  饿虎扑食  事缓则圆\n",
       "4  坚定不移  一五一十  时移势易  以讹传讹  饿虎扑食  事缓则圆\n",
       "5  坚定不移  一五一十  矢志不移  以讹传讹  饿虎扑食  事缓则圆\n",
       "6  坚定不移  一五一十  始终如一  以讹传讹  饿虎扑食  事缓则圆\n",
       "7  坚定不移  一马当先  弦外之意  以讹传讹  饿虎扑食  事缓则圆\n",
       "8  坚定不移  以古为镜  惊叹不已  以讹传讹  饿虎扑食  事缓则圆\n",
       "9  坚定不移  依然如故  顾名思义  以讹传讹  饿虎扑食  事缓则圆"
      ]
     },
     "execution_count": 6,
     "metadata": {},
     "output_type": "execute_result"
    }
   ],
   "source": [
    "start = time.time()\n",
    "df_paths = find_path(idiom=\"坚定不移\", length=5, limit=100000)\n",
    "\n",
    "print(\"found %i paths, time elapsed: %.2fs\"%(len(df_paths), time.time() - start))\n",
    "df_paths.head(10)"
   ]
  }
 ],
 "metadata": {
  "kernelspec": {
   "display_name": "Python 3",
   "language": "python",
   "name": "python3"
  },
  "language_info": {
   "codemirror_mode": {
    "name": "ipython",
    "version": 3
   },
   "file_extension": ".py",
   "mimetype": "text/x-python",
   "name": "python",
   "nbconvert_exporter": "python",
   "pygments_lexer": "ipython3",
   "version": "3.7.3"
  }
 },
 "nbformat": 4,
 "nbformat_minor": 2
}
